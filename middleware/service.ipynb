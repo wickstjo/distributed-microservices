{
 "cells": [
  {
   "cell_type": "code",
   "execution_count": 12,
   "metadata": {},
   "outputs": [],
   "source": [
    "import os\n",
    "import shutil"
   ]
  },
  {
   "cell_type": "markdown",
   "metadata": {},
   "source": [
    "### VERIFY SERVICES DIR EXISTENCE"
   ]
  },
  {
   "cell_type": "code",
   "execution_count": 13,
   "metadata": {},
   "outputs": [],
   "source": [
    "def verify_dir():\n",
    "    \n",
    "    # IF THE DIR DOES NOT EXIST, CREATE IT\n",
    "    if not os.path.exists('services/'):\n",
    "        os.mkdir('services/')"
   ]
  },
  {
   "cell_type": "markdown",
   "metadata": {},
   "source": [
    "### INSTALL SERVICE"
   ]
  },
  {
   "cell_type": "code",
   "execution_count": 14,
   "metadata": {},
   "outputs": [],
   "source": [
    "def install(service):\n",
    "    \n",
    "    # SERVICE PATH\n",
    "    service_path = 'services/' + service + '.py'\n",
    "    \n",
    "    # IF THE SERVICE DOES NOT EXIST\n",
    "    if not os.path.exists(service_path):\n",
    "        \n",
    "        # SHOW MESSAGE\n",
    "        print('INSTALLING SERVICE:', service)\n",
    "        \n",
    "        # DOWNLOAD SOURCE FILES\n",
    "        # MOVE THE FILE\n",
    "        \n",
    "        # COPY TEMP SERVICE\n",
    "        shutil.copy2('resources/service.py', service_path)"
   ]
  },
  {
   "cell_type": "code",
   "execution_count": null,
   "metadata": {},
   "outputs": [],
   "source": []
  }
 ],
 "metadata": {
  "kernelspec": {
   "display_name": "Python 3",
   "language": "python",
   "name": "python3"
  },
  "language_info": {
   "codemirror_mode": {
    "name": "ipython",
    "version": 3
   },
   "file_extension": ".py",
   "mimetype": "text/x-python",
   "name": "python",
   "nbconvert_exporter": "python",
   "pygments_lexer": "ipython3",
   "version": "3.8.5"
  }
 },
 "nbformat": 4,
 "nbformat_minor": 4
}
