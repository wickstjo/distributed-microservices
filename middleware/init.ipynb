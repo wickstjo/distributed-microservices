{
 "cells": [
  {
   "cell_type": "code",
   "execution_count": 1,
   "metadata": {},
   "outputs": [],
   "source": [
    "import nbimporter"
   ]
  },
  {
   "cell_type": "code",
   "execution_count": 2,
   "metadata": {
    "scrolled": true
   },
   "outputs": [
    {
     "name": "stdout",
     "output_type": "stream",
     "text": [
      "Importing Jupyter notebook from utils.ipynb\n",
      "Importing Jupyter notebook from blockchain.ipynb\n"
     ]
    }
   ],
   "source": [
    "import utils as utils\n",
    "import blockchain as blockchain"
   ]
  },
  {
   "cell_type": "markdown",
   "metadata": {},
   "source": [
    "### LOAD RESOURCES"
   ]
  },
  {
   "cell_type": "code",
   "execution_count": 3,
   "metadata": {},
   "outputs": [],
   "source": [
    "settings = utils.load_yaml('resources/settings.yaml')"
   ]
  },
  {
   "cell_type": "code",
   "execution_count": 4,
   "metadata": {},
   "outputs": [],
   "source": [
    "latest = utils.load_json('resources/latest.json')"
   ]
  },
  {
   "cell_type": "markdown",
   "metadata": {},
   "source": [
    "### CONNECT TO ETHEREUM GATEWAY"
   ]
  },
  {
   "cell_type": "code",
   "execution_count": 5,
   "metadata": {},
   "outputs": [],
   "source": [
    "web3 = blockchain.connect(settings)"
   ]
  },
  {
   "cell_type": "markdown",
   "metadata": {},
   "source": [
    "### SERIALIZE MANAGER CONTRACTS"
   ]
  },
  {
   "cell_type": "code",
   "execution_count": 6,
   "metadata": {},
   "outputs": [],
   "source": [
    "user_manager = blockchain.contract(latest['usermanager'], web3, settings)"
   ]
  },
  {
   "cell_type": "code",
   "execution_count": 7,
   "metadata": {},
   "outputs": [],
   "source": [
    "oracle_manager = blockchain.contract(latest['oraclemanager'], web3, settings)"
   ]
  },
  {
   "cell_type": "code",
   "execution_count": 8,
   "metadata": {},
   "outputs": [],
   "source": [
    "task_manager = blockchain.contract(latest['taskmanager'], web3, settings)"
   ]
  },
  {
   "cell_type": "code",
   "execution_count": 9,
   "metadata": {},
   "outputs": [],
   "source": [
    "token_manager = blockchain.contract(latest['tokenmanager'], web3, settings)"
   ]
  },
  {
   "cell_type": "code",
   "execution_count": 10,
   "metadata": {},
   "outputs": [],
   "source": [
    "service_manager = blockchain.contract(latest['servicemanager'], web3, settings)"
   ]
  },
  {
   "cell_type": "markdown",
   "metadata": {},
   "source": [
    "### INIT TOKEN MANAGER"
   ]
  },
  {
   "cell_type": "code",
   "execution_count": 11,
   "metadata": {},
   "outputs": [],
   "source": [
    "token_symbol = 'ArcaCoin'\n",
    "token_price = 5000\n",
    "token_capacity = 10000"
   ]
  },
  {
   "cell_type": "code",
   "execution_count": 12,
   "metadata": {},
   "outputs": [
    {
     "data": {
      "text/plain": [
       "AttributeDict({'blockHash': HexBytes('0x7cddcc9a8259453977fb46b4b084e2b229c2c9b6ea530006180a08f8f19e91f3'),\n",
       " 'blockNumber': 87639,\n",
       " 'contractAddress': None,\n",
       " 'cumulativeGasUsed': 105693,\n",
       " 'from': '0x1ecC18DC2c41B6A5cC760dEdeBb0D857223A5721',\n",
       " 'gasUsed': 105693,\n",
       " 'logs': [],\n",
       " 'logsBloom': HexBytes('0x00000000000000000000000000000000000000000000000000000000000000000000000000000000000000000000000000000000000000000000000000000000000000000000000000000000000000000000000000000000000000000000000000000000000000000000000000000000000000000000000000000000000000000000000000000000000000000000000000000000000000000000000000000000000000000000000000000000000000000000000000000000000000000000000000000000000000000000000000000000000000000000000000000000000000000000000000000000000000000000000000000000000000000000000000000000'),\n",
       " 'status': 1,\n",
       " 'to': '0x506819Cd0a3F205D1fd1f7b1a5078458756812DC',\n",
       " 'transactionHash': HexBytes('0xe628c2bf9e38e7859d8297bc3549ffd1d82e6eb842e7306c9b0d7cd3bda1b91d'),\n",
       " 'transactionIndex': 0})"
      ]
     },
     "execution_count": 12,
     "metadata": {},
     "output_type": "execute_result"
    }
   ],
   "source": [
    "token_manager.write({\n",
    "    'func': 'init',\n",
    "    'params': [\n",
    "        token_symbol,\n",
    "        token_price,\n",
    "        token_capacity,\n",
    "        task_manager.address\n",
    "    ]\n",
    "})"
   ]
  },
  {
   "cell_type": "markdown",
   "metadata": {},
   "source": [
    "### INIT TASK MANAGER"
   ]
  },
  {
   "cell_type": "code",
   "execution_count": 13,
   "metadata": {},
   "outputs": [],
   "source": [
    "task_token_fee = 2"
   ]
  },
  {
   "cell_type": "code",
   "execution_count": 14,
   "metadata": {},
   "outputs": [
    {
     "data": {
      "text/plain": [
       "AttributeDict({'blockHash': HexBytes('0x4f4979e4b08f7f173a89cd4ee52ddc51ca083a4143c11b371edeb9d3e633d3bf'),\n",
       " 'blockNumber': 87641,\n",
       " 'contractAddress': None,\n",
       " 'cumulativeGasUsed': 127617,\n",
       " 'from': '0x1ecC18DC2c41B6A5cC760dEdeBb0D857223A5721',\n",
       " 'gasUsed': 127617,\n",
       " 'logs': [],\n",
       " 'logsBloom': HexBytes('0x00000000000000000000000000000000000000000000000000000000000000000000000000000000000000000000000000000000000000000000000000000000000000000000000000000000000000000000000000000000000000000000000000000000000000000000000000000000000000000000000000000000000000000000000000000000000000000000000000000000000000000000000000000000000000000000000000000000000000000000000000000000000000000000000000000000000000000000000000000000000000000000000000000000000000000000000000000000000000000000000000000000000000000000000000000000'),\n",
       " 'status': 1,\n",
       " 'to': '0x459cBd1Ca27D2575773555Fa18272e58A5E924ce',\n",
       " 'transactionHash': HexBytes('0xbf6dccf2f87318dad29d664554e848163d99e7819d59df774eb466bbd74b4293'),\n",
       " 'transactionIndex': 0})"
      ]
     },
     "execution_count": 14,
     "metadata": {},
     "output_type": "execute_result"
    }
   ],
   "source": [
    "task_manager.write({\n",
    "    'func': 'init',\n",
    "    'params': [\n",
    "        task_token_fee,\n",
    "        user_manager.address,\n",
    "        oracle_manager.address,\n",
    "        token_manager.address,\n",
    "        service_manager.address\n",
    "    ]\n",
    "})"
   ]
  },
  {
   "cell_type": "markdown",
   "metadata": {},
   "source": [
    "### INIT USER MANAGER"
   ]
  },
  {
   "cell_type": "code",
   "execution_count": 15,
   "metadata": {},
   "outputs": [
    {
     "data": {
      "text/plain": [
       "AttributeDict({'blockHash': HexBytes('0xd56687e4afdf6da3d46242037c3717f121f876e53d6218f1b6f1a1e5673481ed'),\n",
       " 'blockNumber': 87642,\n",
       " 'contractAddress': None,\n",
       " 'cumulativeGasUsed': 43380,\n",
       " 'from': '0x1ecC18DC2c41B6A5cC760dEdeBb0D857223A5721',\n",
       " 'gasUsed': 43380,\n",
       " 'logs': [],\n",
       " 'logsBloom': HexBytes('0x00000000000000000000000000000000000000000000000000000000000000000000000000000000000000000000000000000000000000000000000000000000000000000000000000000000000000000000000000000000000000000000000000000000000000000000000000000000000000000000000000000000000000000000000000000000000000000000000000000000000000000000000000000000000000000000000000000000000000000000000000000000000000000000000000000000000000000000000000000000000000000000000000000000000000000000000000000000000000000000000000000000000000000000000000000000'),\n",
       " 'status': 1,\n",
       " 'to': '0x64E8FD4ab9Bf25566B44347F561281E239d5816e',\n",
       " 'transactionHash': HexBytes('0x3825772830ba46737b95fe2543df3322b9604908db8745fe85013fc7109373ec'),\n",
       " 'transactionIndex': 0})"
      ]
     },
     "execution_count": 15,
     "metadata": {},
     "output_type": "execute_result"
    }
   ],
   "source": [
    "user_manager.write({\n",
    "    'func': 'init',\n",
    "    'params': [task_manager.address]\n",
    "})"
   ]
  },
  {
   "cell_type": "markdown",
   "metadata": {},
   "source": [
    "### INIT ORACLE MANAGER"
   ]
  },
  {
   "cell_type": "code",
   "execution_count": 16,
   "metadata": {},
   "outputs": [
    {
     "data": {
      "text/plain": [
       "AttributeDict({'blockHash': HexBytes('0x3c355c1ac2f271cf2fec06df43c4cd4b15cc7ca857b86dc5ec5cb91dbb6f7f59'),\n",
       " 'blockNumber': 87644,\n",
       " 'contractAddress': None,\n",
       " 'cumulativeGasUsed': 86083,\n",
       " 'from': '0x1ecC18DC2c41B6A5cC760dEdeBb0D857223A5721',\n",
       " 'gasUsed': 86083,\n",
       " 'logs': [],\n",
       " 'logsBloom': HexBytes('0x00000000000000000000000000000000000000000000000000000000000000000000000000000000000000000000000000000000000000000000000000000000000000000000000000000000000000000000000000000000000000000000000000000000000000000000000000000000000000000000000000000000000000000000000000000000000000000000000000000000000000000000000000000000000000000000000000000000000000000000000000000000000000000000000000000000000000000000000000000000000000000000000000000000000000000000000000000000000000000000000000000000000000000000000000000000'),\n",
       " 'status': 1,\n",
       " 'to': '0xcA2281e771DD64F95c0e1eAD0cE9774D66aA2Fe6',\n",
       " 'transactionHash': HexBytes('0x988eafd13e15da7b61e5bdb67b9c9e9ee19039fb4e0d8270109ec347debb062d'),\n",
       " 'transactionIndex': 0})"
      ]
     },
     "execution_count": 16,
     "metadata": {},
     "output_type": "execute_result"
    }
   ],
   "source": [
    "oracle_manager.write({\n",
    "    'func': 'init',\n",
    "    'params': [\n",
    "        user_manager.address,\n",
    "        service_manager.address,\n",
    "        task_manager.address\n",
    "    ]\n",
    "})"
   ]
  },
  {
   "cell_type": "markdown",
   "metadata": {},
   "source": [
    "### INIT SERVICE MANAGER"
   ]
  },
  {
   "cell_type": "code",
   "execution_count": 17,
   "metadata": {},
   "outputs": [
    {
     "data": {
      "text/plain": [
       "AttributeDict({'blockHash': HexBytes('0x386ef1ec45f1bd1384e0a07dea9810b603fcdffc985757a2c8e40ca1735424d7'),\n",
       " 'blockNumber': 87645,\n",
       " 'contractAddress': None,\n",
       " 'cumulativeGasUsed': 43402,\n",
       " 'from': '0x1ecC18DC2c41B6A5cC760dEdeBb0D857223A5721',\n",
       " 'gasUsed': 43402,\n",
       " 'logs': [],\n",
       " 'logsBloom': HexBytes('0x00000000000000000000000000000000000000000000000000000000000000000000000000000000000000000000000000000000000000000000000000000000000000000000000000000000000000000000000000000000000000000000000000000000000000000000000000000000000000000000000000000000000000000000000000000000000000000000000000000000000000000000000000000000000000000000000000000000000000000000000000000000000000000000000000000000000000000000000000000000000000000000000000000000000000000000000000000000000000000000000000000000000000000000000000000000'),\n",
       " 'status': 1,\n",
       " 'to': '0x8EBb0F05d14827a00Ce2829424a805eB02390Abc',\n",
       " 'transactionHash': HexBytes('0x5a2a22bb9006c433137bb035d0afedb547616dff491affe4b1ff244713e16a25'),\n",
       " 'transactionIndex': 0})"
      ]
     },
     "execution_count": 17,
     "metadata": {},
     "output_type": "execute_result"
    }
   ],
   "source": [
    "service_manager.write({\n",
    "    'func': 'init',\n",
    "    'params': [user_manager.address]\n",
    "})"
   ]
  },
  {
   "cell_type": "code",
   "execution_count": null,
   "metadata": {},
   "outputs": [],
   "source": []
  }
 ],
 "metadata": {
  "kernelspec": {
   "display_name": "Python 3",
   "language": "python",
   "name": "python3"
  },
  "language_info": {
   "codemirror_mode": {
    "name": "ipython",
    "version": 3
   },
   "file_extension": ".py",
   "mimetype": "text/x-python",
   "name": "python",
   "nbconvert_exporter": "python",
   "pygments_lexer": "ipython3",
   "version": "3.8.5"
  }
 },
 "nbformat": 4,
 "nbformat_minor": 2
}
