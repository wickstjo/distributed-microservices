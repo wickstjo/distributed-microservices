{
 "cells": [
  {
   "cell_type": "code",
   "execution_count": 1,
   "metadata": {},
   "outputs": [],
   "source": [
    "import nbimporter"
   ]
  },
  {
   "cell_type": "code",
   "execution_count": 2,
   "metadata": {
    "scrolled": true
   },
   "outputs": [
    {
     "name": "stdout",
     "output_type": "stream",
     "text": [
      "Importing Jupyter notebook from utils.ipynb\n",
      "Importing Jupyter notebook from blockchain.ipynb\n"
     ]
    }
   ],
   "source": [
    "import utils as utils\n",
    "import blockchain as blockchain"
   ]
  },
  {
   "cell_type": "markdown",
   "metadata": {},
   "source": [
    "### LOAD RESOURCES"
   ]
  },
  {
   "cell_type": "code",
   "execution_count": 3,
   "metadata": {},
   "outputs": [],
   "source": [
    "settings = utils.load_yaml('resources/settings.yaml')"
   ]
  },
  {
   "cell_type": "code",
   "execution_count": 4,
   "metadata": {},
   "outputs": [],
   "source": [
    "latest = utils.load_json('resources/latest.json')"
   ]
  },
  {
   "cell_type": "markdown",
   "metadata": {},
   "source": [
    "### CONNECT TO ETHEREUM GATEWAY"
   ]
  },
  {
   "cell_type": "code",
   "execution_count": 5,
   "metadata": {},
   "outputs": [],
   "source": [
    "web3 = blockchain.connect(settings)"
   ]
  },
  {
   "cell_type": "markdown",
   "metadata": {},
   "source": [
    "### SERIALIZE MANAGER CONTRACTS"
   ]
  },
  {
   "cell_type": "code",
   "execution_count": 6,
   "metadata": {},
   "outputs": [],
   "source": [
    "user_manager = blockchain.contract(latest['usermanager'], web3, settings)"
   ]
  },
  {
   "cell_type": "code",
   "execution_count": 7,
   "metadata": {},
   "outputs": [],
   "source": [
    "oracle_manager = blockchain.contract(latest['oraclemanager'], web3, settings)"
   ]
  },
  {
   "cell_type": "code",
   "execution_count": 8,
   "metadata": {},
   "outputs": [],
   "source": [
    "task_manager = blockchain.contract(latest['taskmanager'], web3, settings)"
   ]
  },
  {
   "cell_type": "code",
   "execution_count": 9,
   "metadata": {},
   "outputs": [],
   "source": [
    "token_manager = blockchain.contract(latest['tokenmanager'], web3, settings)"
   ]
  },
  {
   "cell_type": "code",
   "execution_count": 16,
   "metadata": {},
   "outputs": [],
   "source": [
    "service_manager = blockchain.contract(latest['servicemanager'], web3, settings)"
   ]
  },
  {
   "cell_type": "markdown",
   "metadata": {},
   "source": [
    "### INIT TOKEN MANAGER"
   ]
  },
  {
   "cell_type": "code",
   "execution_count": 10,
   "metadata": {},
   "outputs": [],
   "source": [
    "token_symbol = 'ArcaCoin'\n",
    "token_price = 5000\n",
    "token_capacity = 10000"
   ]
  },
  {
   "cell_type": "code",
   "execution_count": 11,
   "metadata": {},
   "outputs": [
    {
     "data": {
      "text/plain": [
       "AttributeDict({'blockHash': HexBytes('0x7cfb61174c1171f6d0224f3b4e418fad7b30f819b9ec736f8020a120f4686cd0'),\n",
       " 'blockNumber': 85496,\n",
       " 'contractAddress': None,\n",
       " 'cumulativeGasUsed': 105693,\n",
       " 'from': '0x1ecC18DC2c41B6A5cC760dEdeBb0D857223A5721',\n",
       " 'gasUsed': 105693,\n",
       " 'logs': [],\n",
       " 'logsBloom': HexBytes('0x00000000000000000000000000000000000000000000000000000000000000000000000000000000000000000000000000000000000000000000000000000000000000000000000000000000000000000000000000000000000000000000000000000000000000000000000000000000000000000000000000000000000000000000000000000000000000000000000000000000000000000000000000000000000000000000000000000000000000000000000000000000000000000000000000000000000000000000000000000000000000000000000000000000000000000000000000000000000000000000000000000000000000000000000000000000'),\n",
       " 'status': 1,\n",
       " 'to': '0xE676853A3259Aa2F727cD6FdD243F1103f8e0c90',\n",
       " 'transactionHash': HexBytes('0xd271aca04b1006e6e001e239a9d57ec125c3734697d364149c13ccae45619986'),\n",
       " 'transactionIndex': 0})"
      ]
     },
     "execution_count": 11,
     "metadata": {},
     "output_type": "execute_result"
    }
   ],
   "source": [
    "token_manager.write({\n",
    "    'func': 'init',\n",
    "    'params': [\n",
    "        token_symbol,\n",
    "        token_price,\n",
    "        token_capacity,\n",
    "        task_manager.address\n",
    "    ]\n",
    "})"
   ]
  },
  {
   "cell_type": "markdown",
   "metadata": {},
   "source": [
    "### INIT TASK MANAGER"
   ]
  },
  {
   "cell_type": "code",
   "execution_count": 12,
   "metadata": {},
   "outputs": [],
   "source": [
    "task_token_fee = 2"
   ]
  },
  {
   "cell_type": "code",
   "execution_count": 13,
   "metadata": {},
   "outputs": [
    {
     "data": {
      "text/plain": [
       "AttributeDict({'blockHash': HexBytes('0x61b27063616c3f422b43c8dd89bb9d549f3973501ce3674b2d1ef85ac77f4817'),\n",
       " 'blockNumber': 85497,\n",
       " 'contractAddress': None,\n",
       " 'cumulativeGasUsed': 106267,\n",
       " 'from': '0x1ecC18DC2c41B6A5cC760dEdeBb0D857223A5721',\n",
       " 'gasUsed': 106267,\n",
       " 'logs': [],\n",
       " 'logsBloom': HexBytes('0x00000000000000000000000000000000000000000000000000000000000000000000000000000000000000000000000000000000000000000000000000000000000000000000000000000000000000000000000000000000000000000000000000000000000000000000000000000000000000000000000000000000000000000000000000000000000000000000000000000000000000000000000000000000000000000000000000000000000000000000000000000000000000000000000000000000000000000000000000000000000000000000000000000000000000000000000000000000000000000000000000000000000000000000000000000000'),\n",
       " 'status': 1,\n",
       " 'to': '0x53617C9e7627f5D1cEa5260B18ce45f9ED8E4521',\n",
       " 'transactionHash': HexBytes('0x1cae4aa3b441ed0b864f08ac7db95ef606f797d64d6dfaef3b373349c3232f7d'),\n",
       " 'transactionIndex': 0})"
      ]
     },
     "execution_count": 13,
     "metadata": {},
     "output_type": "execute_result"
    }
   ],
   "source": [
    "task_manager.write({\n",
    "    'func': 'init',\n",
    "    'params': [\n",
    "        task_token_fee,\n",
    "        user_manager.address,\n",
    "        oracle_manager.address,\n",
    "        token_manager.address\n",
    "    ]\n",
    "})"
   ]
  },
  {
   "cell_type": "markdown",
   "metadata": {},
   "source": [
    "### INIT USER MANAGER"
   ]
  },
  {
   "cell_type": "code",
   "execution_count": 14,
   "metadata": {},
   "outputs": [
    {
     "data": {
      "text/plain": [
       "AttributeDict({'blockHash': HexBytes('0x4834d9f65acfa1761a242b8b41a9deceef12b31b132412eb72a14907aedf3df3'),\n",
       " 'blockNumber': 85498,\n",
       " 'contractAddress': None,\n",
       " 'cumulativeGasUsed': 43380,\n",
       " 'from': '0x1ecC18DC2c41B6A5cC760dEdeBb0D857223A5721',\n",
       " 'gasUsed': 43380,\n",
       " 'logs': [],\n",
       " 'logsBloom': HexBytes('0x00000000000000000000000000000000000000000000000000000000000000000000000000000000000000000000000000000000000000000000000000000000000000000000000000000000000000000000000000000000000000000000000000000000000000000000000000000000000000000000000000000000000000000000000000000000000000000000000000000000000000000000000000000000000000000000000000000000000000000000000000000000000000000000000000000000000000000000000000000000000000000000000000000000000000000000000000000000000000000000000000000000000000000000000000000000'),\n",
       " 'status': 1,\n",
       " 'to': '0xc93011298F1A0be78f1aECDFD9a9588f6440E542',\n",
       " 'transactionHash': HexBytes('0xb67488a3090c3fab2ef030677facdde0ab0dacd89e03749a419d3d64611e17ff'),\n",
       " 'transactionIndex': 0})"
      ]
     },
     "execution_count": 14,
     "metadata": {},
     "output_type": "execute_result"
    }
   ],
   "source": [
    "user_manager.write({\n",
    "    'func': 'init',\n",
    "    'params': [task_manager.address]\n",
    "})"
   ]
  },
  {
   "cell_type": "markdown",
   "metadata": {},
   "source": [
    "### INIT ORACLE MANAGER"
   ]
  },
  {
   "cell_type": "code",
   "execution_count": 19,
   "metadata": {},
   "outputs": [
    {
     "data": {
      "text/plain": [
       "AttributeDict({'blockHash': HexBytes('0x95033833608762740ceacd186c1678040c28f6c21ba745a10ba085f4f11f6005'),\n",
       " 'blockNumber': 85503,\n",
       " 'contractAddress': None,\n",
       " 'cumulativeGasUsed': 86083,\n",
       " 'from': '0x1ecC18DC2c41B6A5cC760dEdeBb0D857223A5721',\n",
       " 'gasUsed': 86083,\n",
       " 'logs': [],\n",
       " 'logsBloom': HexBytes('0x00000000000000000000000000000000000000000000000000000000000000000000000000000000000000000000000000000000000000000000000000000000000000000000000000000000000000000000000000000000000000000000000000000000000000000000000000000000000000000000000000000000000000000000000000000000000000000000000000000000000000000000000000000000000000000000000000000000000000000000000000000000000000000000000000000000000000000000000000000000000000000000000000000000000000000000000000000000000000000000000000000000000000000000000000000000'),\n",
       " 'status': 1,\n",
       " 'to': '0x8499e507D6f4dA6D46FF5B9d226658165d6461a4',\n",
       " 'transactionHash': HexBytes('0x913895de270a909783042a303db76a9e9e72c8986d4c7ca53a81149e33b00e90'),\n",
       " 'transactionIndex': 0})"
      ]
     },
     "execution_count": 19,
     "metadata": {},
     "output_type": "execute_result"
    }
   ],
   "source": [
    "oracle_manager.write({\n",
    "    'func': 'init',\n",
    "    'params': [\n",
    "        user_manager.address,\n",
    "        service_manager.address,\n",
    "        task_manager.address\n",
    "    ]\n",
    "})"
   ]
  },
  {
   "cell_type": "code",
   "execution_count": null,
   "metadata": {},
   "outputs": [],
   "source": []
  }
 ],
 "metadata": {
  "kernelspec": {
   "display_name": "Python 3",
   "language": "python",
   "name": "python3"
  },
  "language_info": {
   "codemirror_mode": {
    "name": "ipython",
    "version": 3
   },
   "file_extension": ".py",
   "mimetype": "text/x-python",
   "name": "python",
   "nbconvert_exporter": "python",
   "pygments_lexer": "ipython3",
   "version": "3.8.5"
  }
 },
 "nbformat": 4,
 "nbformat_minor": 2
}
